{
 "cells": [
  {
   "cell_type": "code",
   "execution_count": 2,
   "outputs": [
    {
     "name": "stdout",
     "output_type": "stream",
     "text": [
      "/Users/pedrobedmar/GoogleDrive/MASTER_BIG_DATA/tfm/code\n"
     ]
    }
   ],
   "source": [
    "%cd .."
   ],
   "metadata": {
    "collapsed": false
   }
  },
  {
   "cell_type": "code",
   "execution_count": 17,
   "metadata": {
    "collapsed": true
   },
   "outputs": [],
   "source": [
    "import math\n",
    "import pandas as pd\n",
    "import numpy as np\n",
    "import matplotlib.pyplot as plt\n",
    "\n",
    "from etl.generic_provider import GenericDataProvider\n",
    "from etl.esios.provider import ESIOSDataProvider\n",
    "\n",
    "from sklearn.ensemble import RandomForestRegressor\n",
    "from sklearn.metrics import mean_squared_error\n",
    "from sklearn.model_selection import train_test_split, TimeSeriesSplit\n",
    "\n",
    "from skforecast.ForecasterAutoreg import ForecasterAutoreg\n",
    "from skforecast.model_selection import backtesting_forecaster\n",
    "from skforecast.model_selection import grid_search_forecaster"
   ]
  },
  {
   "cell_type": "code",
   "execution_count": 5,
   "outputs": [],
   "source": [
    "esios_provider = ESIOSDataProvider()\n",
    "esios_tickers = esios_provider.get_tickers()"
   ],
   "metadata": {
    "collapsed": false
   }
  },
  {
   "cell_type": "code",
   "execution_count": 12,
   "outputs": [],
   "source": [
    "esios_df = esios_provider.get_all_series(freq=\"H\", start_index=\"2023-02-01 00:00\", end_index=\"2023-02-28 23:59\")\n",
    "esios_spot = esios_df[\"PRECIO_MERCADO_SPOT_DIARIO\"]\n",
    "esios_demand = esios_df[\"DEMANDA_REAL\"]\n",
    "Xy = esios_df.drop(['GENERACIÓN_MEDIDA_TOTAL'], axis=1)\n",
    "X = esios_df.drop(['PRECIO_MERCADO_SPOT_DIARIO', 'GENERACIÓN_MEDIDA_TOTAL'], axis=1)"
   ],
   "metadata": {
    "collapsed": false
   }
  },
  {
   "cell_type": "code",
   "execution_count": 24,
   "outputs": [],
   "source": [
    "X_train, X_test, y_train, y_test = train_test_split(X, esios_spot, test_size=168, shuffle=False)"
   ],
   "metadata": {
    "collapsed": false
   }
  },
  {
   "cell_type": "code",
   "execution_count": 25,
   "outputs": [],
   "source": [
    "forecaster = ForecasterAutoreg(\n",
    "    regressor = RandomForestRegressor(random_state=0),\n",
    "    lags      = 24*15\n",
    " )"
   ],
   "metadata": {
    "collapsed": false
   }
  },
  {
   "cell_type": "code",
   "execution_count": 26,
   "outputs": [
    {
     "name": "stderr",
     "output_type": "stream",
     "text": [
      "/Users/pedrobedmar/opt/anaconda3/lib/python3.9/site-packages/skforecast/utils/utils.py:799: UserWarning: `y` has no DatetimeIndex nor RangeIndex index. Index is overwritten with a RangeIndex.\n",
      "  warnings.warn(\n",
      "/Users/pedrobedmar/opt/anaconda3/lib/python3.9/site-packages/skforecast/utils/utils.py:799: UserWarning: `y` has no DatetimeIndex nor RangeIndex index. Index is overwritten with a RangeIndex.\n",
      "  warnings.warn(\n"
     ]
    },
    {
     "data": {
      "text/plain": "================= \nForecasterAutoreg \n================= \nRegressor: RandomForestRegressor(random_state=0) \nLags: [1 2 3 4 5 6] \nTransformer for y: None \nTransformer for exog: None \nWindow size: 6 \nWeight function included: False \nExogenous included: False \nType of exogenous variable: None \nExogenous variables names: None \nTraining range: [0, 503] \nTraining index type: RangeIndex \nTraining index frequency: 1 \nRegressor parameters: {'bootstrap': True, 'ccp_alpha': 0.0, 'criterion': 'squared_error', 'max_depth': None, 'max_features': 1.0, 'max_leaf_nodes': None, 'max_samples': None, 'min_impurity_decrease': 0.0, 'min_samples_leaf': 1, 'min_samples_split': 2, 'min_weight_fraction_leaf': 0.0, 'n_estimators': 100, 'n_jobs': None, 'oob_score': False, 'random_state': 0, 'verbose': 0, 'warm_start': False} \nfit_kwargs: {} \nCreation date: 2023-05-20 16:41:25 \nLast fit date: 2023-05-20 16:45:10 \nSkforecast version: 0.8.0 \nPython version: 3.9.12 \nForecaster id: None "
     },
     "execution_count": 26,
     "metadata": {},
     "output_type": "execute_result"
    }
   ],
   "source": [
    "forecaster.fit(y=y_train)\n",
    "forecaster"
   ],
   "metadata": {
    "collapsed": false
   }
  },
  {
   "cell_type": "code",
   "execution_count": null,
   "outputs": [],
   "source": [],
   "metadata": {
    "collapsed": false
   }
  }
 ],
 "metadata": {
  "kernelspec": {
   "display_name": "Python 3",
   "language": "python",
   "name": "python3"
  },
  "language_info": {
   "codemirror_mode": {
    "name": "ipython",
    "version": 2
   },
   "file_extension": ".py",
   "mimetype": "text/x-python",
   "name": "python",
   "nbconvert_exporter": "python",
   "pygments_lexer": "ipython2",
   "version": "2.7.6"
  }
 },
 "nbformat": 4,
 "nbformat_minor": 0
}
