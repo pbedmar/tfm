{
 "cells": [
  {
   "cell_type": "code",
   "execution_count": 3,
   "outputs": [
    {
     "name": "stdout",
     "output_type": "stream",
     "text": [
      "/Users/pedrobedmar/GoogleDrive/MASTER_BIG_DATA/tfm/code\n"
     ]
    }
   ],
   "source": [
    "%cd .."
   ],
   "metadata": {
    "collapsed": false
   }
  },
  {
   "cell_type": "code",
   "execution_count": 4,
   "metadata": {
    "collapsed": true
   },
   "outputs": [],
   "source": [
    "import pandas as pd"
   ]
  },
  {
   "cell_type": "code",
   "execution_count": 91,
   "outputs": [],
   "source": [
    "path = \"datalake/clean/esios/\"\n",
    "tickers = ['DEMANDA_REAL', 'GENERACIÓN_MEDIDA_TOTAL', 'GENERACIÓN_MEDIDA_EÓLICA', 'GENERACIÓN_MEDIDA_HIDRÁULICA', 'GENERACIÓN_MEDIDA_NUCLEAR', 'GENERACIÓN_MEDIDA_SOLAR', 'GENERACIÓN_MEDIDA_CICLO_COMBINADO', 'GENERACIÓN_MEDIDA_CARBÓN', 'PRECIO_MERCADO_SPOT_DIARIO']\n",
    "ts_df = pd.read_csv(path+tickers[0]+\".csv\", index_col=\"DATE\")\n",
    "for ticker in tickers[1:]:\n",
    "    ts = pd.read_csv(path+ticker+\".csv\", index_col=\"DATE\")\n",
    "    ts_df = pd.concat([ts_df, ts], axis=1)"
   ],
   "metadata": {
    "collapsed": false
   }
  },
  {
   "cell_type": "code",
   "execution_count": 92,
   "outputs": [
    {
     "data": {
      "text/plain": "                           DEMANDA_REAL  GENERACIÓN_MEDIDA_TOTAL  \\\nDATE                                                               \n2014-01-01 00:00:00+00:00  23365.333333                24819.732   \n2014-01-01 01:00:00+00:00  21672.500000                23321.158   \n2014-01-01 02:00:00+00:00  20192.000000                22284.601   \n2014-01-01 03:00:00+00:00  19220.666667                21320.445   \n2014-01-01 04:00:00+00:00  18954.500000                20791.423   \n...                                 ...                      ...   \n2023-03-31 19:00:00+00:00  28300.833333                32075.428   \n2023-03-31 20:00:00+00:00  26147.000000                30262.870   \n2023-03-31 21:00:00+00:00  24172.833333                28591.827   \n2023-03-31 22:00:00+00:00  22870.750000                26426.808   \n2023-03-31 23:00:00+00:00  21704.333333                25129.017   \n\n                           GENERACIÓN_MEDIDA_EÓLICA  \\\nDATE                                                  \n2014-01-01 00:00:00+00:00                 11114.415   \n2014-01-01 01:00:00+00:00                 10828.798   \n2014-01-01 02:00:00+00:00                 10735.842   \n2014-01-01 03:00:00+00:00                 10552.922   \n2014-01-01 04:00:00+00:00                 10331.556   \n...                                             ...   \n2023-03-31 19:00:00+00:00                 15115.405   \n2023-03-31 20:00:00+00:00                 14445.811   \n2023-03-31 21:00:00+00:00                 13923.143   \n2023-03-31 22:00:00+00:00                 13394.642   \n2023-03-31 23:00:00+00:00                 13204.580   \n\n                           GENERACIÓN_MEDIDA_HIDRÁULICA  \\\nDATE                                                      \n2014-01-01 00:00:00+00:00                      3692.807   \n2014-01-01 01:00:00+00:00                      2757.195   \n2014-01-01 02:00:00+00:00                      2200.362   \n2014-01-01 03:00:00+00:00                      2016.278   \n2014-01-01 04:00:00+00:00                      1874.940   \n...                                                 ...   \n2023-03-31 19:00:00+00:00                      4076.612   \n2023-03-31 20:00:00+00:00                      3864.133   \n2023-03-31 21:00:00+00:00                      3375.535   \n2023-03-31 22:00:00+00:00                      2450.315   \n2023-03-31 23:00:00+00:00                      2082.519   \n\n                           GENERACIÓN_MEDIDA_NUCLEAR  GENERACIÓN_MEDIDA_SOLAR  \\\nDATE                                                                            \n2014-01-01 00:00:00+00:00                   6095.080                    0.143   \n2014-01-01 01:00:00+00:00                   6095.883                    0.159   \n2014-01-01 02:00:00+00:00                   6091.723                    0.160   \n2014-01-01 03:00:00+00:00                   6087.309                    0.141   \n2014-01-01 04:00:00+00:00                   6086.374                    0.167   \n...                                              ...                      ...   \n2023-03-31 19:00:00+00:00                   5590.423                  289.323   \n2023-03-31 20:00:00+00:00                   5591.656                  236.734   \n2023-03-31 21:00:00+00:00                   5595.115                  210.193   \n2023-03-31 22:00:00+00:00                   5600.935                  147.961   \n2023-03-31 23:00:00+00:00                   5596.433                   92.731   \n\n                           GENERACIÓN_MEDIDA_CICLO_COMBINADO  \\\nDATE                                                           \n2014-01-01 00:00:00+00:00                           2290.723   \n2014-01-01 01:00:00+00:00                           2393.043   \n2014-01-01 02:00:00+00:00                           2101.695   \n2014-01-01 03:00:00+00:00                           2093.705   \n2014-01-01 04:00:00+00:00                           2035.525   \n...                                                      ...   \n2023-03-31 19:00:00+00:00                           2370.717   \n2023-03-31 20:00:00+00:00                           1744.782   \n2023-03-31 21:00:00+00:00                           1462.283   \n2023-03-31 22:00:00+00:00                           1912.572   \n2023-03-31 23:00:00+00:00                           2081.759   \n\n                           GENERACIÓN_MEDIDA_CARBÓN  \\\nDATE                                                  \n2014-01-01 00:00:00+00:00                  1087.365   \n2014-01-01 01:00:00+00:00                   659.242   \n2014-01-01 02:00:00+00:00                   706.502   \n2014-01-01 03:00:00+00:00                   572.863   \n2014-01-01 04:00:00+00:00                   556.261   \n...                                             ...   \n2023-03-31 19:00:00+00:00                   499.609   \n2023-03-31 20:00:00+00:00                   429.974   \n2023-03-31 21:00:00+00:00                   434.320   \n2023-03-31 22:00:00+00:00                   431.823   \n2023-03-31 23:00:00+00:00                   436.819   \n\n                           PRECIO_MERCADO_SPOT_DIARIO  \nDATE                                                   \n2014-01-01 00:00:00+00:00                       10.34  \n2014-01-01 01:00:00+00:00                        5.35  \n2014-01-01 02:00:00+00:00                        5.00  \n2014-01-01 03:00:00+00:00                        0.50  \n2014-01-01 04:00:00+00:00                        0.00  \n...                                               ...  \n2023-03-31 19:00:00+00:00                       35.61  \n2023-03-31 20:00:00+00:00                       32.50  \n2023-03-31 21:00:00+00:00                       31.92  \n2023-03-31 22:00:00+00:00                       82.19  \n2023-03-31 23:00:00+00:00                       63.90  \n\n[81048 rows x 9 columns]",
      "text/html": "<div>\n<style scoped>\n    .dataframe tbody tr th:only-of-type {\n        vertical-align: middle;\n    }\n\n    .dataframe tbody tr th {\n        vertical-align: top;\n    }\n\n    .dataframe thead th {\n        text-align: right;\n    }\n</style>\n<table border=\"1\" class=\"dataframe\">\n  <thead>\n    <tr style=\"text-align: right;\">\n      <th></th>\n      <th>DEMANDA_REAL</th>\n      <th>GENERACIÓN_MEDIDA_TOTAL</th>\n      <th>GENERACIÓN_MEDIDA_EÓLICA</th>\n      <th>GENERACIÓN_MEDIDA_HIDRÁULICA</th>\n      <th>GENERACIÓN_MEDIDA_NUCLEAR</th>\n      <th>GENERACIÓN_MEDIDA_SOLAR</th>\n      <th>GENERACIÓN_MEDIDA_CICLO_COMBINADO</th>\n      <th>GENERACIÓN_MEDIDA_CARBÓN</th>\n      <th>PRECIO_MERCADO_SPOT_DIARIO</th>\n    </tr>\n    <tr>\n      <th>DATE</th>\n      <th></th>\n      <th></th>\n      <th></th>\n      <th></th>\n      <th></th>\n      <th></th>\n      <th></th>\n      <th></th>\n      <th></th>\n    </tr>\n  </thead>\n  <tbody>\n    <tr>\n      <th>2014-01-01 00:00:00+00:00</th>\n      <td>23365.333333</td>\n      <td>24819.732</td>\n      <td>11114.415</td>\n      <td>3692.807</td>\n      <td>6095.080</td>\n      <td>0.143</td>\n      <td>2290.723</td>\n      <td>1087.365</td>\n      <td>10.34</td>\n    </tr>\n    <tr>\n      <th>2014-01-01 01:00:00+00:00</th>\n      <td>21672.500000</td>\n      <td>23321.158</td>\n      <td>10828.798</td>\n      <td>2757.195</td>\n      <td>6095.883</td>\n      <td>0.159</td>\n      <td>2393.043</td>\n      <td>659.242</td>\n      <td>5.35</td>\n    </tr>\n    <tr>\n      <th>2014-01-01 02:00:00+00:00</th>\n      <td>20192.000000</td>\n      <td>22284.601</td>\n      <td>10735.842</td>\n      <td>2200.362</td>\n      <td>6091.723</td>\n      <td>0.160</td>\n      <td>2101.695</td>\n      <td>706.502</td>\n      <td>5.00</td>\n    </tr>\n    <tr>\n      <th>2014-01-01 03:00:00+00:00</th>\n      <td>19220.666667</td>\n      <td>21320.445</td>\n      <td>10552.922</td>\n      <td>2016.278</td>\n      <td>6087.309</td>\n      <td>0.141</td>\n      <td>2093.705</td>\n      <td>572.863</td>\n      <td>0.50</td>\n    </tr>\n    <tr>\n      <th>2014-01-01 04:00:00+00:00</th>\n      <td>18954.500000</td>\n      <td>20791.423</td>\n      <td>10331.556</td>\n      <td>1874.940</td>\n      <td>6086.374</td>\n      <td>0.167</td>\n      <td>2035.525</td>\n      <td>556.261</td>\n      <td>0.00</td>\n    </tr>\n    <tr>\n      <th>...</th>\n      <td>...</td>\n      <td>...</td>\n      <td>...</td>\n      <td>...</td>\n      <td>...</td>\n      <td>...</td>\n      <td>...</td>\n      <td>...</td>\n      <td>...</td>\n    </tr>\n    <tr>\n      <th>2023-03-31 19:00:00+00:00</th>\n      <td>28300.833333</td>\n      <td>32075.428</td>\n      <td>15115.405</td>\n      <td>4076.612</td>\n      <td>5590.423</td>\n      <td>289.323</td>\n      <td>2370.717</td>\n      <td>499.609</td>\n      <td>35.61</td>\n    </tr>\n    <tr>\n      <th>2023-03-31 20:00:00+00:00</th>\n      <td>26147.000000</td>\n      <td>30262.870</td>\n      <td>14445.811</td>\n      <td>3864.133</td>\n      <td>5591.656</td>\n      <td>236.734</td>\n      <td>1744.782</td>\n      <td>429.974</td>\n      <td>32.50</td>\n    </tr>\n    <tr>\n      <th>2023-03-31 21:00:00+00:00</th>\n      <td>24172.833333</td>\n      <td>28591.827</td>\n      <td>13923.143</td>\n      <td>3375.535</td>\n      <td>5595.115</td>\n      <td>210.193</td>\n      <td>1462.283</td>\n      <td>434.320</td>\n      <td>31.92</td>\n    </tr>\n    <tr>\n      <th>2023-03-31 22:00:00+00:00</th>\n      <td>22870.750000</td>\n      <td>26426.808</td>\n      <td>13394.642</td>\n      <td>2450.315</td>\n      <td>5600.935</td>\n      <td>147.961</td>\n      <td>1912.572</td>\n      <td>431.823</td>\n      <td>82.19</td>\n    </tr>\n    <tr>\n      <th>2023-03-31 23:00:00+00:00</th>\n      <td>21704.333333</td>\n      <td>25129.017</td>\n      <td>13204.580</td>\n      <td>2082.519</td>\n      <td>5596.433</td>\n      <td>92.731</td>\n      <td>2081.759</td>\n      <td>436.819</td>\n      <td>63.90</td>\n    </tr>\n  </tbody>\n</table>\n<p>81048 rows × 9 columns</p>\n</div>"
     },
     "execution_count": 92,
     "metadata": {},
     "output_type": "execute_result"
    }
   ],
   "source": [
    "ts_df"
   ],
   "metadata": {
    "collapsed": false
   }
  },
  {
   "cell_type": "code",
   "execution_count": 95,
   "outputs": [],
   "source": [
    "df = ts_df\n",
    "df.index = pd.PeriodIndex(df.index, freq=\"H\")\n",
    "df = df.sort_index()\n",
    "\n",
    "start_index = None\n",
    "end_index = None\n",
    "resample_by = \"D\"\n",
    "group_mode = None\n",
    "\n",
    "if start_index is not None:\n",
    "    df = df.loc[df.index >= start_index]\n",
    "if end_index is not None:\n",
    "    df = df.loc[df.index <= end_index]\n",
    "if resample_by is not None and group_mode is not None:\n",
    "    df = df.resample(resample_by)\n",
    "    if group_mode == \"sum\":\n",
    "        df = df.sum()\n",
    "    if group_mode == \"mean\":\n",
    "        df = df.mean()\n",
    "\n",
    "df = df.reset_index()\n",
    "df[\"DATE\"] = df[\"DATE\"].astype(str)\n",
    "df[\"DATE\"] = pd.to_datetime(df['DATE'])\n",
    "df = df.set_index('DATE')\n",
    "df = df.asfreq('H')"
   ],
   "metadata": {
    "collapsed": false
   }
  },
  {
   "cell_type": "code",
   "execution_count": 97,
   "outputs": [
    {
     "data": {
      "text/plain": "DatetimeIndex(['2014-01-01 00:00:00', '2014-01-01 01:00:00',\n               '2014-01-01 02:00:00', '2014-01-01 03:00:00',\n               '2014-01-01 04:00:00', '2014-01-01 05:00:00',\n               '2014-01-01 06:00:00', '2014-01-01 07:00:00',\n               '2014-01-01 08:00:00', '2014-01-01 09:00:00',\n               ...\n               '2023-03-31 14:00:00', '2023-03-31 15:00:00',\n               '2023-03-31 16:00:00', '2023-03-31 17:00:00',\n               '2023-03-31 18:00:00', '2023-03-31 19:00:00',\n               '2023-03-31 20:00:00', '2023-03-31 21:00:00',\n               '2023-03-31 22:00:00', '2023-03-31 23:00:00'],\n              dtype='datetime64[ns]', name='DATE', length=81048, freq='H')"
     },
     "execution_count": 97,
     "metadata": {},
     "output_type": "execute_result"
    }
   ],
   "source": [
    "df.index"
   ],
   "metadata": {
    "collapsed": false
   }
  },
  {
   "cell_type": "code",
   "execution_count": 54,
   "outputs": [
    {
     "data": {
      "text/plain": "PeriodIndex(['2014-01-01 00:00', '2014-01-01 01:00', '2014-01-01 02:00',\n             '2014-01-01 03:00', '2014-01-01 04:00', '2014-01-01 05:00',\n             '2014-01-01 06:00', '2014-01-01 07:00', '2014-01-01 08:00',\n             '2014-01-01 09:00',\n             ...\n             '2023-03-31 14:00', '2023-03-31 15:00', '2023-03-31 16:00',\n             '2023-03-31 17:00', '2023-03-31 18:00', '2023-03-31 19:00',\n             '2023-03-31 20:00', '2023-03-31 21:00', '2023-03-31 22:00',\n             '2023-03-31 23:00'],\n            dtype='period[H]', name='DATE', length=81048)"
     },
     "execution_count": 54,
     "metadata": {},
     "output_type": "execute_result"
    }
   ],
   "source": [
    "df.index"
   ],
   "metadata": {
    "collapsed": false
   }
  },
  {
   "cell_type": "code",
   "execution_count": 112,
   "outputs": [],
   "source": [
    "df = ts_df\n",
    "ts = ts_df['PRECIO_MERCADO_SPOT_DIARIO'].squeeze()\n",
    "ts.index = pd.PeriodIndex(ts.index, freq=\"H\")\n",
    "ts = ts.sort_index()\n",
    "\n",
    "start_index = None\n",
    "end_index = None\n",
    "resample_by = \"D\"\n",
    "group_mode = None\n",
    "\n",
    "if start_index is not None:\n",
    "    ts = ts.loc[ts.index >= start_index]\n",
    "if end_index is not None:\n",
    "    ts = ts.loc[ts.index <= end_index]\n",
    "if resample_by is not None and group_mode is not None:\n",
    "    ts = ts.resample(resample_by)\n",
    "    if group_mode == \"sum\":\n",
    "        ts = ts.sum()\n",
    "    if group_mode == \"mean\":\n",
    "        ts = ts.mean()\n",
    "\n",
    "ts = pd.DataFrame(ts)\n",
    "ts = ts.reset_index()\n",
    "ts[\"DATE\"] = ts[\"DATE\"].astype(str)\n",
    "ts[\"DATE\"] = pd.to_datetime(ts['DATE'])\n",
    "ts = ts.set_index('DATE')\n",
    "ts = ts.asfreq('H')\n",
    "ts = ts.squeeze()"
   ],
   "metadata": {
    "collapsed": false
   }
  },
  {
   "cell_type": "code",
   "execution_count": 115,
   "outputs": [
    {
     "data": {
      "text/plain": "DatetimeIndex(['2014-01-01 00:00:00', '2014-01-01 01:00:00',\n               '2014-01-01 02:00:00', '2014-01-01 03:00:00',\n               '2014-01-01 04:00:00', '2014-01-01 05:00:00',\n               '2014-01-01 06:00:00', '2014-01-01 07:00:00',\n               '2014-01-01 08:00:00', '2014-01-01 09:00:00',\n               ...\n               '2023-03-31 14:00:00', '2023-03-31 15:00:00',\n               '2023-03-31 16:00:00', '2023-03-31 17:00:00',\n               '2023-03-31 18:00:00', '2023-03-31 19:00:00',\n               '2023-03-31 20:00:00', '2023-03-31 21:00:00',\n               '2023-03-31 22:00:00', '2023-03-31 23:00:00'],\n              dtype='datetime64[ns]', name='DATE', length=81048, freq='H')"
     },
     "execution_count": 115,
     "metadata": {},
     "output_type": "execute_result"
    }
   ],
   "source": [
    "ts.index"
   ],
   "metadata": {
    "collapsed": false
   }
  },
  {
   "cell_type": "code",
   "execution_count": null,
   "outputs": [],
   "source": [],
   "metadata": {
    "collapsed": false
   }
  }
 ],
 "metadata": {
  "kernelspec": {
   "display_name": "Python 3",
   "language": "python",
   "name": "python3"
  },
  "language_info": {
   "codemirror_mode": {
    "name": "ipython",
    "version": 2
   },
   "file_extension": ".py",
   "mimetype": "text/x-python",
   "name": "python",
   "nbconvert_exporter": "python",
   "pygments_lexer": "ipython2",
   "version": "2.7.6"
  }
 },
 "nbformat": 4,
 "nbformat_minor": 0
}
